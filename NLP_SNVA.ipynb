{
  "nbformat": 4,
  "nbformat_minor": 0,
  "metadata": {
    "colab": {
      "provenance": [],
      "authorship_tag": "ABX9TyOC8UPCEPRcrSOzbFFiGaN9",
      "include_colab_link": true
    },
    "kernelspec": {
      "name": "python3",
      "display_name": "Python 3"
    },
    "language_info": {
      "name": "python"
    }
  },
  "cells": [
    {
      "cell_type": "markdown",
      "metadata": {
        "id": "view-in-github",
        "colab_type": "text"
      },
      "source": [
        "<a href=\"https://colab.research.google.com/github/Desmondonam/nlp-notebooks/blob/master/NLP_SNVA.ipynb\" target=\"_parent\"><img src=\"https://colab.research.google.com/assets/colab-badge.svg\" alt=\"Open In Colab\"/></a>"
      ]
    },
    {
      "cell_type": "markdown",
      "source": [
        "**Natural Language Processing (NLP)**is a diverse field with many concepts and terms. Here's a list of key terms and concepts to help you get started:\n",
        "\n",
        "**Natural Language Processing (NLP):** A branch of artificial intelligence that focuses on enabling computers to understand, interpret, and generate human language.\n",
        "\n",
        "**Corpus:** A collection of texts used for linguistic analysis and training machine learning models.\n",
        "\n",
        "**Tokenization:** The process of breaking text into individual units, often words or subwords, to analyze or process them.\n",
        "\n",
        "**Lemmatization:** Reducing words to their base or dictionary form (lemma), typically by removing inflections and variations.\n",
        "\n",
        "**Stemming:** Reducing words to their root form by removing prefixes, suffixes, and other morphological variations.\n",
        "\n",
        "**Part-of-Speech (POS) Tagging:** Assigning grammatical tags (such as nouns, verbs, adjectives) to each word in a sentence.\n",
        "\n",
        "**Named Entity Recognition (NER):** Identifying and classifying entities like names of people, places, organizations, dates, etc., within text.\n",
        "\n",
        "**Stop Words:** Common words (such as \"and,\" \"the,\" \"is\") that are often removed during text preprocessing to improve efficiency and model accuracy.\n",
        "\n",
        "**Bag of Words (BoW):** A simple representation of text where the frequency of words in a document is used to create a \"bag\" of word counts.\n",
        "\n",
        "**Term Frequency-Inverse Document Frequency (TF-IDF):** A method to represent the importance of words in a document relative to a collection of documents.\n",
        "\n",
        "**Word Embeddings:** Numerical representations of words that capture semantic relationships between words. Examples include Word2Vec, GloVe, and FastText.\n",
        "\n",
        "**Word2Vec:** A popular word embedding technique that represents words in a continuous vector space, capturing semantic similarities.\n",
        "\n",
        "**GloVe (Global Vectors for Word Representation):** A word embedding model that combines global statistics of word co-occurrences with local context information.\n",
        "\n",
        "**FastText:** An extension of Word2Vec that also represents subword information, which is particularly useful for handling out-of-vocabulary words.\n",
        "\n",
        "**Recurrent Neural Networks (RNN):** A class of neural networks designed for sequences, allowing information to be passed from previous steps to current steps.\n",
        "\n",
        "**Long Short-Term Memory (LSTM):** A type of RNN designed to mitigate the vanishing gradient problem and capture longer-term dependencies.\n",
        "\n",
        "**Gated Recurrent Units (GRU):** Another variant of RNN that aims to simplify the LSTM architecture while maintaining similar performance.\n",
        "\n",
        "**Transformer:** A model architecture that revolutionized NLP, using self-attention mechanisms to capture relationships between words in parallel.\n",
        "\n",
        "**Attention Mechanism:** A technique in which each word in a sequence can focus on different parts of the input, allowing the model to weigh their importance differently.\n",
        "\n",
        "**Bidirectional Encoder Representations from Transformers (BERT):** A transformer-based model pre-trained on massive amounts of text data for various NLP tasks.\n",
        "\n",
        "**Sequence-to-Sequence (Seq2Seq) Models:** Models designed to map input sequences to output sequences, widely used in machine translation and text generation.\n",
        "\n",
        "**Encoder-Decoder Architecture:** A structure where an encoder processes input data and a decoder generates corresponding output, commonly used in translation tasks.\n",
        "\n",
        "**Transfer Learning:** Training a model on one task and then fine-tuning it on another related task to leverage knowledge gained from the first task.\n",
        "\n",
        "**Fine-tuning:** Adjusting a pre-trained model on specific data to adapt it for a new task.\n",
        "\n",
        "**Language Generation:** Creating coherent and contextually relevant sentences or text, including tasks like chatbots and text completion.\n",
        "\n",
        "**Language Understanding:** Tasks involving comprehension and interpretation of human language, like sentiment analysis and intent recognition.\n",
        "\n",
        "**Named Entity Disambiguation:** Resolving ambiguities in named entities (e.g., distinguishing between \"Apple\" the company and \"apple\" the fruit).\n",
        "\n",
        "**Semantic Role Labeling:** Identifying the roles that words play in a sentence's underlying meaning, such as the subject, object, etc.\n",
        "\n",
        "**Topic Modeling:** Identifying topics in a collection of documents to gain insights into the main themes present.\n",
        "\n",
        "**Sentiment Analysis:** Determining the emotional tone of a piece of text, often categorized as positive, negative, or neutral.\n",
        "\n",
        "Remember, NLP is a vast field, and this list provides just a starting point. As you progress, you'll encounter more specialized terms and concepts related to the specific areas of NLP that interest you."
      ],
      "metadata": {
        "id": "iSdRHiEP0qdi"
      }
    },
    {
      "cell_type": "code",
      "execution_count": 1,
      "metadata": {
        "colab": {
          "base_uri": "https://localhost:8080/"
        },
        "id": "D-JdL8JhzwY8",
        "outputId": "7ac83bd8-107c-4297-aa61-0fbf630190d1"
      },
      "outputs": [
        {
          "output_type": "stream",
          "name": "stdout",
          "text": [
            "Requirement already satisfied: nltk in /usr/local/lib/python3.10/dist-packages (3.8.1)\n",
            "Requirement already satisfied: spacy in /usr/local/lib/python3.10/dist-packages (3.6.1)\n",
            "Requirement already satisfied: click in /usr/local/lib/python3.10/dist-packages (from nltk) (8.1.6)\n",
            "Requirement already satisfied: joblib in /usr/local/lib/python3.10/dist-packages (from nltk) (1.3.2)\n",
            "Requirement already satisfied: regex>=2021.8.3 in /usr/local/lib/python3.10/dist-packages (from nltk) (2023.6.3)\n",
            "Requirement already satisfied: tqdm in /usr/local/lib/python3.10/dist-packages (from nltk) (4.66.1)\n",
            "Requirement already satisfied: spacy-legacy<3.1.0,>=3.0.11 in /usr/local/lib/python3.10/dist-packages (from spacy) (3.0.12)\n",
            "Requirement already satisfied: spacy-loggers<2.0.0,>=1.0.0 in /usr/local/lib/python3.10/dist-packages (from spacy) (1.0.4)\n",
            "Requirement already satisfied: murmurhash<1.1.0,>=0.28.0 in /usr/local/lib/python3.10/dist-packages (from spacy) (1.0.9)\n",
            "Requirement already satisfied: cymem<2.1.0,>=2.0.2 in /usr/local/lib/python3.10/dist-packages (from spacy) (2.0.7)\n",
            "Requirement already satisfied: preshed<3.1.0,>=3.0.2 in /usr/local/lib/python3.10/dist-packages (from spacy) (3.0.8)\n",
            "Requirement already satisfied: thinc<8.2.0,>=8.1.8 in /usr/local/lib/python3.10/dist-packages (from spacy) (8.1.12)\n",
            "Requirement already satisfied: wasabi<1.2.0,>=0.9.1 in /usr/local/lib/python3.10/dist-packages (from spacy) (1.1.2)\n",
            "Requirement already satisfied: srsly<3.0.0,>=2.4.3 in /usr/local/lib/python3.10/dist-packages (from spacy) (2.4.7)\n",
            "Requirement already satisfied: catalogue<2.1.0,>=2.0.6 in /usr/local/lib/python3.10/dist-packages (from spacy) (2.0.9)\n",
            "Requirement already satisfied: typer<0.10.0,>=0.3.0 in /usr/local/lib/python3.10/dist-packages (from spacy) (0.9.0)\n",
            "Requirement already satisfied: pathy>=0.10.0 in /usr/local/lib/python3.10/dist-packages (from spacy) (0.10.2)\n",
            "Requirement already satisfied: smart-open<7.0.0,>=5.2.1 in /usr/local/lib/python3.10/dist-packages (from spacy) (6.3.0)\n",
            "Requirement already satisfied: numpy>=1.15.0 in /usr/local/lib/python3.10/dist-packages (from spacy) (1.23.5)\n",
            "Requirement already satisfied: requests<3.0.0,>=2.13.0 in /usr/local/lib/python3.10/dist-packages (from spacy) (2.31.0)\n",
            "Requirement already satisfied: pydantic!=1.8,!=1.8.1,<3.0.0,>=1.7.4 in /usr/local/lib/python3.10/dist-packages (from spacy) (2.1.1)\n",
            "Requirement already satisfied: jinja2 in /usr/local/lib/python3.10/dist-packages (from spacy) (3.1.2)\n",
            "Requirement already satisfied: setuptools in /usr/local/lib/python3.10/dist-packages (from spacy) (67.7.2)\n",
            "Requirement already satisfied: packaging>=20.0 in /usr/local/lib/python3.10/dist-packages (from spacy) (23.1)\n",
            "Requirement already satisfied: langcodes<4.0.0,>=3.2.0 in /usr/local/lib/python3.10/dist-packages (from spacy) (3.3.0)\n",
            "Requirement already satisfied: annotated-types>=0.4.0 in /usr/local/lib/python3.10/dist-packages (from pydantic!=1.8,!=1.8.1,<3.0.0,>=1.7.4->spacy) (0.5.0)\n",
            "Requirement already satisfied: pydantic-core==2.4.0 in /usr/local/lib/python3.10/dist-packages (from pydantic!=1.8,!=1.8.1,<3.0.0,>=1.7.4->spacy) (2.4.0)\n",
            "Requirement already satisfied: typing-extensions>=4.6.1 in /usr/local/lib/python3.10/dist-packages (from pydantic!=1.8,!=1.8.1,<3.0.0,>=1.7.4->spacy) (4.7.1)\n",
            "Requirement already satisfied: charset-normalizer<4,>=2 in /usr/local/lib/python3.10/dist-packages (from requests<3.0.0,>=2.13.0->spacy) (3.2.0)\n",
            "Requirement already satisfied: idna<4,>=2.5 in /usr/local/lib/python3.10/dist-packages (from requests<3.0.0,>=2.13.0->spacy) (3.4)\n",
            "Requirement already satisfied: urllib3<3,>=1.21.1 in /usr/local/lib/python3.10/dist-packages (from requests<3.0.0,>=2.13.0->spacy) (2.0.4)\n",
            "Requirement already satisfied: certifi>=2017.4.17 in /usr/local/lib/python3.10/dist-packages (from requests<3.0.0,>=2.13.0->spacy) (2023.7.22)\n",
            "Requirement already satisfied: blis<0.8.0,>=0.7.8 in /usr/local/lib/python3.10/dist-packages (from thinc<8.2.0,>=8.1.8->spacy) (0.7.10)\n",
            "Requirement already satisfied: confection<1.0.0,>=0.0.1 in /usr/local/lib/python3.10/dist-packages (from thinc<8.2.0,>=8.1.8->spacy) (0.1.1)\n",
            "Requirement already satisfied: MarkupSafe>=2.0 in /usr/local/lib/python3.10/dist-packages (from jinja2->spacy) (2.1.3)\n"
          ]
        }
      ],
      "source": [
        "## first install the libraries if you do not have them\n",
        "!pip install nltk spacy"
      ]
    },
    {
      "cell_type": "code",
      "source": [
        "# Import necessary libraries\n",
        "import nltk\n",
        "from nltk.tokenize import word_tokenize\n",
        "from nltk.corpus import stopwords\n",
        "from nltk.stem import WordNetLemmatizer\n",
        "import string\n"
      ],
      "metadata": {
        "id": "eYGV4o314kti"
      },
      "execution_count": 3,
      "outputs": []
    },
    {
      "cell_type": "code",
      "source": [
        "# Download NLTK resources (uncomment and run once)\n"
      ],
      "metadata": {
        "id": "iynqikXa4kpK"
      },
      "execution_count": 4,
      "outputs": []
    },
    {
      "cell_type": "code",
      "source": [
        "nltk.download('punkt')"
      ],
      "metadata": {
        "colab": {
          "base_uri": "https://localhost:8080/"
        },
        "id": "p_RzPdiQ4khZ",
        "outputId": "fdc47a1a-134a-44ef-c150-afc875f87ef1"
      },
      "execution_count": 5,
      "outputs": [
        {
          "output_type": "stream",
          "name": "stderr",
          "text": [
            "[nltk_data] Downloading package punkt to /root/nltk_data...\n",
            "[nltk_data]   Unzipping tokenizers/punkt.zip.\n"
          ]
        },
        {
          "output_type": "execute_result",
          "data": {
            "text/plain": [
              "True"
            ]
          },
          "metadata": {},
          "execution_count": 5
        }
      ]
    },
    {
      "cell_type": "code",
      "source": [
        "nltk.download('stopwords')"
      ],
      "metadata": {
        "colab": {
          "base_uri": "https://localhost:8080/"
        },
        "id": "Yt4k8gb14kdX",
        "outputId": "65c6e293-4ab2-4548-9af5-c60b1f6735b0"
      },
      "execution_count": 6,
      "outputs": [
        {
          "output_type": "stream",
          "name": "stderr",
          "text": [
            "[nltk_data] Downloading package stopwords to /root/nltk_data...\n",
            "[nltk_data]   Unzipping corpora/stopwords.zip.\n"
          ]
        },
        {
          "output_type": "execute_result",
          "data": {
            "text/plain": [
              "True"
            ]
          },
          "metadata": {},
          "execution_count": 6
        }
      ]
    },
    {
      "cell_type": "code",
      "source": [
        "nltk.download('wordnet')"
      ],
      "metadata": {
        "colab": {
          "base_uri": "https://localhost:8080/"
        },
        "id": "1ZDzkGgu4kaB",
        "outputId": "8f54bc70-572f-4d72-9d5c-3434f1319be9"
      },
      "execution_count": 7,
      "outputs": [
        {
          "output_type": "stream",
          "name": "stderr",
          "text": [
            "[nltk_data] Downloading package wordnet to /root/nltk_data...\n"
          ]
        },
        {
          "output_type": "execute_result",
          "data": {
            "text/plain": [
              "True"
            ]
          },
          "metadata": {},
          "execution_count": 7
        }
      ]
    },
    {
      "cell_type": "code",
      "source": [
        "# Sample text for processing\n",
        "sample_text = \"Natural language processing is a field of artificial intelligence that focuses on enabling computers to understand, interpret, and generate human language.\"\n"
      ],
      "metadata": {
        "id": "gvWR1MXb4_Qh"
      },
      "execution_count": 8,
      "outputs": []
    },
    {
      "cell_type": "code",
      "source": [
        "sample_text"
      ],
      "metadata": {
        "colab": {
          "base_uri": "https://localhost:8080/",
          "height": 53
        },
        "id": "sDbsroM-4_K2",
        "outputId": "08746e2b-54f4-4576-e157-b8a5a232c710"
      },
      "execution_count": 9,
      "outputs": [
        {
          "output_type": "execute_result",
          "data": {
            "text/plain": [
              "'Natural language processing is a field of artificial intelligence that focuses on enabling computers to understand, interpret, and generate human language.'"
            ],
            "application/vnd.google.colaboratory.intrinsic+json": {
              "type": "string"
            }
          },
          "metadata": {},
          "execution_count": 9
        }
      ]
    },
    {
      "cell_type": "code",
      "source": [
        "# Step 1: Tokenization\n",
        "tokens = word_tokenize(sample_text)"
      ],
      "metadata": {
        "id": "V6xBzl594_F_"
      },
      "execution_count": 10,
      "outputs": []
    },
    {
      "cell_type": "code",
      "source": [
        "tokens"
      ],
      "metadata": {
        "colab": {
          "base_uri": "https://localhost:8080/"
        },
        "id": "EkIRSMBU5K-E",
        "outputId": "6759fdcf-6153-483e-a968-e0aa17c0a42f"
      },
      "execution_count": 11,
      "outputs": [
        {
          "output_type": "execute_result",
          "data": {
            "text/plain": [
              "['Natural',\n",
              " 'language',\n",
              " 'processing',\n",
              " 'is',\n",
              " 'a',\n",
              " 'field',\n",
              " 'of',\n",
              " 'artificial',\n",
              " 'intelligence',\n",
              " 'that',\n",
              " 'focuses',\n",
              " 'on',\n",
              " 'enabling',\n",
              " 'computers',\n",
              " 'to',\n",
              " 'understand',\n",
              " ',',\n",
              " 'interpret',\n",
              " ',',\n",
              " 'and',\n",
              " 'generate',\n",
              " 'human',\n",
              " 'language',\n",
              " '.']"
            ]
          },
          "metadata": {},
          "execution_count": 11
        }
      ]
    },
    {
      "cell_type": "code",
      "source": [
        "# Step 2: Lowercasing\n",
        "lowercased_tokens = [token.lower() for token in tokens]"
      ],
      "metadata": {
        "id": "vQundleo5K5_"
      },
      "execution_count": 12,
      "outputs": []
    },
    {
      "cell_type": "code",
      "source": [
        "# Step 3: Removing punctuation\n",
        "translator = str.maketrans(\"\", \"\", string.punctuation)\n",
        "no_punctuation_tokens = [token.translate(translator) for token in lowercased_tokens]\n"
      ],
      "metadata": {
        "id": "5lb9ONuI5K2v"
      },
      "execution_count": 13,
      "outputs": []
    },
    {
      "cell_type": "code",
      "source": [
        "# Step 4: Removing stop words\n",
        "stop_words = set(stopwords.words(\"english\"))\n",
        "filtered_tokens = [token for token in no_punctuation_tokens if token not in stop_words]"
      ],
      "metadata": {
        "id": "QtClVVOJ5XSS"
      },
      "execution_count": 14,
      "outputs": []
    },
    {
      "cell_type": "code",
      "source": [
        "# Step 5: Lemmatization\n",
        "lemmatizer = WordNetLemmatizer()\n",
        "lemmatized_tokens = [lemmatizer.lemmatize(token) for token in filtered_tokens]"
      ],
      "metadata": {
        "id": "JW7cNA905a8k"
      },
      "execution_count": 15,
      "outputs": []
    },
    {
      "cell_type": "code",
      "source": [
        "print(\"Original text:\", sample_text)\n",
        "print(\"Processed tokens:\", lemmatized_tokens)"
      ],
      "metadata": {
        "colab": {
          "base_uri": "https://localhost:8080/"
        },
        "id": "DbuXMiNX4M8u",
        "outputId": "fca92541-146d-4f18-e92d-9cca77f575ff"
      },
      "execution_count": 16,
      "outputs": [
        {
          "output_type": "stream",
          "name": "stdout",
          "text": [
            "Original text: Natural language processing is a field of artificial intelligence that focuses on enabling computers to understand, interpret, and generate human language.\n",
            "Processed tokens: ['natural', 'language', 'processing', 'field', 'artificial', 'intelligence', 'focus', 'enabling', 'computer', 'understand', '', 'interpret', '', 'generate', 'human', 'language', '']\n"
          ]
        }
      ]
    },
    {
      "cell_type": "markdown",
      "source": [
        "## Perfoming and Exploratory data Analysis\n"
      ],
      "metadata": {
        "id": "GuPe6VVB6-He"
      }
    },
    {
      "cell_type": "code",
      "source": [
        "import nltk\n",
        "from nltk.probability import FreqDist\n",
        "import matplotlib.pyplot as plt\n",
        "import seaborn as sns\n",
        "\n",
        "# Sample preprocessed tokens from the previous steps\n",
        "preprocessed_tokens = [\n",
        "    'natural', 'language', 'processing', 'field', 'artificial', 'intelligence',\n",
        "    'focus', 'enabling', 'computer', 'understand', 'interpret', 'generate', 'human', 'language'\n",
        "]\n",
        "\n",
        "# Calculate descriptive statistics\n",
        "total_tokens = len(preprocessed_tokens)\n",
        "unique_tokens = len(set(preprocessed_tokens))\n",
        "average_token_length = sum(len(token) for token in preprocessed_tokens) / total_tokens\n",
        "\n",
        "print(\"Total Tokens:\", total_tokens)\n",
        "print(\"Unique Tokens:\", unique_tokens)\n",
        "print(\"Average Token Length:\", average_token_length)\n",
        "\n",
        "# Create a frequency distribution\n",
        "freq_dist = FreqDist(preprocessed_tokens)\n",
        "\n",
        "# Visualize word histograms\n",
        "plt.figure(figsize=(10, 6))\n",
        "freq_dist.plot(30, cumulative=False)\n",
        "plt.title(\"Top 30 Most Common Words\")\n",
        "plt.xlabel(\"Words\")\n",
        "plt.ylabel(\"Frequency\")\n",
        "plt.show()"
      ],
      "metadata": {
        "colab": {
          "base_uri": "https://localhost:8080/",
          "height": 1000
        },
        "id": "DxWOrHQi4eEw",
        "outputId": "4f0fd245-5fcf-4dca-879f-32ab01fe2a89"
      },
      "execution_count": 17,
      "outputs": [
        {
          "output_type": "stream",
          "name": "stdout",
          "text": [
            "Total Tokens: 14\n",
            "Unique Tokens: 13\n",
            "Average Token Length: 8.071428571428571\n"
          ]
        },
        {
          "output_type": "display_data",
          "data": {
            "text/plain": [
              "<Figure size 1000x600 with 1 Axes>"
            ],
            "image/png": "[encoded data removed]"
          },
          "metadata": {}
        },
        {
          "output_type": "display_data",
          "data": {
            "text/plain": [
              "<Figure size 640x480 with 1 Axes>"
            ],
            "image/png": "[encoded data removed]"
          },
          "metadata": {}
        }
      ]
    },
    {
      "cell_type": "markdown",
      "source": [
        "Word Cloud: Create a word cloud to visualize the most frequent words in a more visually appealing way.\n",
        "Bigram and Trigram Analysis: Analyze pairs or triples of consecutive words to uncover common phrases and collocations.\n",
        "Part-of-Speech Tagging Distribution: Analyze the distribution of different parts of speech to understand the linguistic structure of the text.\n",
        "Named Entity Recognition (NER) Analysis: Identify and visualize named entities such as names of people, places, organizations, etc.\n",
        "Sentiment Analysis: If you have sentiment labels, analyze the distribution of positive, negative, and neutral sentiments."
      ],
      "metadata": {
        "id": "A7Nvnbwq7RJE"
      }
    },
    {
      "cell_type": "code",
      "source": [],
      "metadata": {
        "id": "llHeO4Iu7Ceh"
      },
      "execution_count": null,
      "outputs": []
    },
    {
      "cell_type": "markdown",
      "source": [
        "## Sentimental Analysis"
      ],
      "metadata": {
        "id": "ikzt48Di8Rz0"
      }
    },
    {
      "cell_type": "code",
      "source": [
        "### Import neccesary tools and download\n",
        "# We're using the VADER (Valence Aware Dictionary and sEntiment Reasoner) lexicon for sentiment analysis.\n",
        "#It's a pre-built lexicon specifically designed for sentiment analysis of social media text.\n",
        "\n",
        "import nltk\n",
        "from nltk.sentiment import SentimentIntensityAnalyzer\n",
        "nltk.download('vader_lexicon')"
      ],
      "metadata": {
        "colab": {
          "base_uri": "https://localhost:8080/"
        },
        "id": "3RbDWm3L8RhP",
        "outputId": "e78cb01f-4a79-4ea9-f5de-43a9bc34a19e"
      },
      "execution_count": 18,
      "outputs": [
        {
          "output_type": "stream",
          "name": "stderr",
          "text": [
            "[nltk_data] Downloading package vader_lexicon to /root/nltk_data...\n"
          ]
        },
        {
          "output_type": "execute_result",
          "data": {
            "text/plain": [
              "True"
            ]
          },
          "metadata": {},
          "execution_count": 18
        }
      ]
    },
    {
      "cell_type": "code",
      "source": [
        "# 1. Create the data\n",
        "sample_data = [\n",
        "    \"I love this product! It's amazing.\",\n",
        "    \"The service was terrible. I'm very disappointed.\",\n",
        "    \"The weather is nice today.\",\n",
        "    \"I can't believe how awful this experience was.\",\n",
        "    \"The movie was good, but the ending was disappointing.\",\n",
        "    \"I'm feeling neutral about this event.\"\n",
        "]"
      ],
      "metadata": {
        "id": "fAi7k_Qp9O-G"
      },
      "execution_count": 19,
      "outputs": []
    },
    {
      "cell_type": "code",
      "source": [
        "#Innitialize sentimental analyzer\n",
        "sid = SentimentIntensityAnalyzer()"
      ],
      "metadata": {
        "id": "M-pK8Kgf9hyF"
      },
      "execution_count": 20,
      "outputs": []
    },
    {
      "cell_type": "code",
      "source": [
        "# Perform sentimental analysis\n",
        "sentiments = []\n",
        "for sentence in sample_data:\n",
        "    sentiment_score = sid.polarity_scores(sentence)\n",
        "    sentiments.append(sentiment_score)"
      ],
      "metadata": {
        "id": "gxJ-0E5W9n-j"
      },
      "execution_count": 21,
      "outputs": []
    },
    {
      "cell_type": "code",
      "source": [
        "# print sentimental analysis results\n",
        "for i, sentence in enumerate(sample_data):\n",
        "    print(\"Sentence:\", sentence)\n",
        "    print(\"Sentiment Scores:\", sentiments[i])\n",
        "    if sentiments[i]['compound'] >= 0.05:\n",
        "        print(\"Sentiment: Positive\")\n",
        "    elif sentiments[i]['compound'] <= -0.05:\n",
        "        print(\"Sentiment: Negative\")\n",
        "    else:\n",
        "        print(\"Sentiment: Neutral\")\n",
        "    print(\"=\" * 50)"
      ],
      "metadata": {
        "colab": {
          "base_uri": "https://localhost:8080/"
        },
        "id": "k_aZ14xP9t39",
        "outputId": "71be1554-e1dd-46fd-b576-d942a319bf51"
      },
      "execution_count": 22,
      "outputs": [
        {
          "output_type": "stream",
          "name": "stdout",
          "text": [
            "Sentence: I love this product! It's amazing.\n",
            "Sentiment Scores: {'neg': 0.0, 'neu': 0.266, 'pos': 0.734, 'compound': 0.8516}\n",
            "Sentiment: Positive\n",
            "==================================================\n",
            "Sentence: The service was terrible. I'm very disappointed.\n",
            "Sentiment Scores: {'neg': 0.565, 'neu': 0.435, 'pos': 0.0, 'compound': -0.7574}\n",
            "Sentiment: Negative\n",
            "==================================================\n",
            "Sentence: The weather is nice today.\n",
            "Sentiment Scores: {'neg': 0.0, 'neu': 0.588, 'pos': 0.412, 'compound': 0.4215}\n",
            "Sentiment: Positive\n",
            "==================================================\n",
            "Sentence: I can't believe how awful this experience was.\n",
            "Sentiment Scores: {'neg': 0.0, 'neu': 0.708, 'pos': 0.292, 'compound': 0.357}\n",
            "Sentiment: Positive\n",
            "==================================================\n",
            "Sentence: The movie was good, but the ending was disappointing.\n",
            "Sentiment Scores: {'neg': 0.325, 'neu': 0.528, 'pos': 0.147, 'compound': -0.5187}\n",
            "Sentiment: Negative\n",
            "==================================================\n",
            "Sentence: I'm feeling neutral about this event.\n",
            "Sentiment Scores: {'neg': 0.0, 'neu': 0.769, 'pos': 0.231, 'compound': 0.128}\n",
            "Sentiment: Positive\n",
            "==================================================\n"
          ]
        }
      ]
    },
    {
      "cell_type": "markdown",
      "source": [
        "# Perform Name Entity recogition\n"
      ],
      "metadata": {
        "id": "i6hAq24l-PSS"
      }
    },
    {
      "cell_type": "code",
      "source": [
        "#Import the libraries\n",
        "import nltk\n",
        "from nltk import ne_chunk\n",
        "nltk.download('maxent_ne_chunker')\n",
        "nltk.download('words')"
      ],
      "metadata": {
        "colab": {
          "base_uri": "https://localhost:8080/"
        },
        "id": "_8M0Zrgb-OO7",
        "outputId": "9d614b57-edac-4b40-f73d-065f10accfec"
      },
      "execution_count": 23,
      "outputs": [
        {
          "output_type": "stream",
          "name": "stderr",
          "text": [
            "[nltk_data] Downloading package maxent_ne_chunker to\n",
            "[nltk_data]     /root/nltk_data...\n",
            "[nltk_data]   Unzipping chunkers/maxent_ne_chunker.zip.\n",
            "[nltk_data] Downloading package words to /root/nltk_data...\n",
            "[nltk_data]   Unzipping corpora/words.zip.\n"
          ]
        },
        {
          "output_type": "execute_result",
          "data": {
            "text/plain": [
              "True"
            ]
          },
          "metadata": {},
          "execution_count": 23
        }
      ]
    },
    {
      "cell_type": "code",
      "source": [
        "#Create some sample data\n",
        "sample_data = [\n",
        "    \"Barack Obama was the 44th President of the United States.\",\n",
        "    \"Apple Inc. is a multinational technology company.\",\n",
        "    \"I visited Paris last year.\",\n",
        "]"
      ],
      "metadata": {
        "id": "HnlfYAzq94eh"
      },
      "execution_count": 25,
      "outputs": []
    },
    {
      "cell_type": "code",
      "source": [
        "nltk.download('averaged_perceptron_tagger')"
      ],
      "metadata": {
        "colab": {
          "base_uri": "https://localhost:8080/"
        },
        "id": "FXHhwYwH-1Un",
        "outputId": "4bd24cfd-a5e8-4f0e-c732-4a8969b77fb7"
      },
      "execution_count": 27,
      "outputs": [
        {
          "output_type": "stream",
          "name": "stderr",
          "text": [
            "[nltk_data] Downloading package averaged_perceptron_tagger to\n",
            "[nltk_data]     /root/nltk_data...\n",
            "[nltk_data]   Unzipping taggers/averaged_perceptron_tagger.zip.\n"
          ]
        },
        {
          "output_type": "execute_result",
          "data": {
            "text/plain": [
              "True"
            ]
          },
          "metadata": {},
          "execution_count": 27
        }
      ]
    },
    {
      "cell_type": "code",
      "source": [
        "# Perform NER\n",
        "for sentence in sample_data:\n",
        "    words = nltk.word_tokenize(sentence)\n",
        "    tagged = nltk.pos_tag(words)\n",
        "    named_entities = ne_chunk(tagged)\n",
        "    print(named_entities)\n",
        "    print(\"=\" * 50)"
      ],
      "metadata": {
        "colab": {
          "base_uri": "https://localhost:8080/"
        },
        "id": "Z2WKDrWt-ei_",
        "outputId": "3d853522-5e0d-4905-e27f-e41a71182ee8"
      },
      "execution_count": 28,
      "outputs": [
        {
          "output_type": "stream",
          "name": "stdout",
          "text": [
            "(S\n",
            "  (PERSON Barack/NNP)\n",
            "  (PERSON Obama/NNP)\n",
            "  was/VBD\n",
            "  the/DT\n",
            "  44th/JJ\n",
            "  President/NNP\n",
            "  of/IN\n",
            "  the/DT\n",
            "  (GPE United/NNP States/NNPS)\n",
            "  ./.)\n",
            "==================================================\n",
            "(S\n",
            "  (PERSON Apple/NNP)\n",
            "  (ORGANIZATION Inc./NNP)\n",
            "  is/VBZ\n",
            "  a/DT\n",
            "  multinational/JJ\n",
            "  technology/NN\n",
            "  company/NN\n",
            "  ./.)\n",
            "==================================================\n",
            "(S I/PRP visited/VBD (GPE Paris/NNP) last/JJ year/NN ./.)\n",
            "==================================================\n"
          ]
        }
      ]
    },
    {
      "cell_type": "markdown",
      "source": [
        "# Perform Topic Modelling"
      ],
      "metadata": {
        "id": "JQNntV30_PDj"
      }
    },
    {
      "cell_type": "code",
      "source": [
        "!pip install gensim"
      ],
      "metadata": {
        "colab": {
          "base_uri": "https://localhost:8080/"
        },
        "id": "Rb2y_Fbg-kaY",
        "outputId": "e54ec05e-5728-4d0f-aeff-f56d42750b09"
      },
      "execution_count": 29,
      "outputs": [
        {
          "output_type": "stream",
          "name": "stdout",
          "text": [
            "Requirement already satisfied: gensim in /usr/local/lib/python3.10/dist-packages (4.3.1)\n",
            "Requirement already satisfied: numpy>=1.18.5 in /usr/local/lib/python3.10/dist-packages (from gensim) (1.23.5)\n",
            "Requirement already satisfied: scipy>=1.7.0 in /usr/local/lib/python3.10/dist-packages (from gensim) (1.10.1)\n",
            "Requirement already satisfied: smart-open>=1.8.1 in /usr/local/lib/python3.10/dist-packages (from gensim) (6.3.0)\n"
          ]
        }
      ]
    },
    {
      "cell_type": "code",
      "source": [
        "# Import the libraries\n",
        "import nltk\n",
        "from nltk.corpus import stopwords\n",
        "from nltk.tokenize import word_tokenize\n",
        "from gensim import corpora\n",
        "from gensim.models import LdaModel"
      ],
      "metadata": {
        "id": "JOB7Mu25_ivL"
      },
      "execution_count": 30,
      "outputs": []
    },
    {
      "cell_type": "code",
      "source": [
        "# Preprocess sample data\n",
        "nltk.download('punkt')\n",
        "nltk.download('stopwords')\n",
        "\n",
        "sample_data = [\n",
        "    \"Natural language processing is a field of artificial intelligence.\",\n",
        "    \"Topic modeling can uncover hidden themes in text data.\",\n",
        "    \"Machine learning algorithms are used in various NLP tasks.\",\n",
        "    \"LDA is a common algorithm for topic modeling.\",\n",
        "]\n",
        "\n",
        "stop_words = set(stopwords.words(\"english\"))\n",
        "\n",
        "processed_data = []\n",
        "for sentence in sample_data:\n",
        "    words = word_tokenize(sentence.lower())\n",
        "    filtered_words = [word for word in words if word not in stop_words]\n",
        "    processed_data.append(filtered_words)"
      ],
      "metadata": {
        "colab": {
          "base_uri": "https://localhost:8080/"
        },
        "id": "un_QOe2R_y4a",
        "outputId": "2f99821b-2a82-431c-d541-f2a7aaa8bdcc"
      },
      "execution_count": 31,
      "outputs": [
        {
          "output_type": "stream",
          "name": "stderr",
          "text": [
            "[nltk_data] Downloading package punkt to /root/nltk_data...\n",
            "[nltk_data]   Package punkt is already up-to-date!\n",
            "[nltk_data] Downloading package stopwords to /root/nltk_data...\n",
            "[nltk_data]   Package stopwords is already up-to-date!\n"
          ]
        }
      ]
    },
    {
      "cell_type": "code",
      "source": [
        "#Create dictionary\n",
        "dictionary = corpora.Dictionary(processed_data)\n",
        "corpus = [dictionary.doc2bow(text) for text in processed_data]"
      ],
      "metadata": {
        "id": "L9gCyNx2_6Hf"
      },
      "execution_count": 32,
      "outputs": []
    },
    {
      "cell_type": "code",
      "source": [
        "# Perfom LDA\n",
        "num_topics = 2  # You can adjust the number of topics\n",
        "lda_model = LdaModel(corpus, num_topics=num_topics, id2word=dictionary, passes=15)"
      ],
      "metadata": {
        "id": "KTTfaHk1AB7M"
      },
      "execution_count": 33,
      "outputs": []
    },
    {
      "cell_type": "code",
      "source": [
        "# Print topics\n",
        "topics = lda_model.print_topics(num_words=5)\n",
        "for topic in topics:\n",
        "    print(topic)"
      ],
      "metadata": {
        "colab": {
          "base_uri": "https://localhost:8080/"
        },
        "id": "IAnNk7v5AGYB",
        "outputId": "ed4b2cc5-eaaf-473e-be5d-82f226001878"
      },
      "execution_count": 34,
      "outputs": [
        {
          "output_type": "stream",
          "name": "stdout",
          "text": [
            "(0, '0.096*\".\" + 0.096*\"modeling\" + 0.096*\"topic\" + 0.058*\"uncover\" + 0.058*\"data\"')\n",
            "(1, '0.093*\".\" + 0.055*\"tasks\" + 0.055*\"learning\" + 0.055*\"used\" + 0.055*\"various\"')\n"
          ]
        }
      ]
    },
    {
      "cell_type": "code",
      "source": [],
      "metadata": {
        "id": "CvCn2JImAKLh"
      },
      "execution_count": null,
      "outputs": []
    }
  ]
}